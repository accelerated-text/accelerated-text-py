{
 "cells": [
  {
   "cell_type": "markdown",
   "metadata": {},
   "source": [
    "# Python API for Accelerated Text"
   ]
  },
  {
   "cell_type": "code",
   "execution_count": 1,
   "metadata": {},
   "outputs": [],
   "source": [
    "from acctext import AcceleratedText\n",
    "\n",
    "at = AcceleratedText(host='http://127.0.0.1:3001')"
   ]
  },
  {
   "cell_type": "markdown",
   "metadata": {},
   "source": [
    "Make sure Accelerated Text application is running.\n",
    "Refer to [documentation](https://accelerated-text.readthedocs.io/en/latest/installation/) for launch instructions."
   ]
  },
  {
   "cell_type": "code",
   "execution_count": 2,
   "metadata": {},
   "outputs": [
    {
     "data": {
      "text/plain": [
       "{'health': 'Ok'}"
      ]
     },
     "execution_count": 2,
     "metadata": {},
     "output_type": "execute_result"
    }
   ],
   "source": [
    "at.health()"
   ]
  },
  {
   "cell_type": "markdown",
   "metadata": {},
   "source": [
    "## Dictionary"
   ]
  },
  {
   "cell_type": "code",
   "execution_count": 3,
   "metadata": {},
   "outputs": [],
   "source": [
    "items = [{'key': 'house',\n",
    "          'category': 'N',\n",
    "          'forms': ['house', 'houses']},\n",
    "         {'key': 'hill',\n",
    "          'category': 'N',\n",
    "          'forms': ['hill', 'hills']},\n",
    "         {'key': 'on',\n",
    "          'forms': ['on'],\n",
    "          'category': 'Prep',\n",
    "          'attributes': {'Operation': 'Syntax.on_Prep/Prep'}},\n",
    "         {'key': 'the',\n",
    "          'forms': ['the'],\n",
    "          'category': 'Det',\n",
    "          'attributes': {'Operation': 'Syntax.the_Det/Det'}}]\n",
    "\n",
    "for item in items:\n",
    "    at.create_dictionary_item(**item)"
   ]
  },
  {
   "cell_type": "code",
   "execution_count": 4,
   "metadata": {},
   "outputs": [
    {
     "data": {
      "text/plain": [
       "{'id': 'house_N_Eng',\n",
       " 'key': 'house',\n",
       " 'forms': ['house', 'houses'],\n",
       " 'category': 'N',\n",
       " 'language': 'Eng',\n",
       " 'attributes': {}}"
      ]
     },
     "execution_count": 4,
     "metadata": {},
     "output_type": "execute_result"
    }
   ],
   "source": [
    "at.get_dictionary_item(\"house_N_Eng\")"
   ]
  },
  {
   "cell_type": "code",
   "execution_count": 5,
   "metadata": {},
   "outputs": [
    {
     "data": {
      "text/plain": [
       "[{'id': 'the_Det_Eng',\n",
       "  'key': 'the',\n",
       "  'forms': ['the'],\n",
       "  'category': 'Det',\n",
       "  'language': 'Eng',\n",
       "  'attributes': {'Operation': 'Syntax.the_Det/Det'}},\n",
       " {'id': 'hill_N_Eng',\n",
       "  'key': 'hill',\n",
       "  'forms': ['hill', 'hills'],\n",
       "  'category': 'N',\n",
       "  'language': 'Eng',\n",
       "  'attributes': {}},\n",
       " {'id': 'house_N_Eng',\n",
       "  'key': 'house',\n",
       "  'forms': ['house', 'houses'],\n",
       "  'category': 'N',\n",
       "  'language': 'Eng',\n",
       "  'attributes': {}},\n",
       " {'id': 'on_Prep_Eng',\n",
       "  'key': 'on',\n",
       "  'forms': ['on'],\n",
       "  'category': 'Prep',\n",
       "  'language': 'Eng',\n",
       "  'attributes': {'Operation': 'Syntax.on_Prep/Prep'}}]"
      ]
     },
     "execution_count": 5,
     "metadata": {},
     "output_type": "execute_result"
    }
   ],
   "source": [
    "at.list_dictionary_items()"
   ]
  },
  {
   "cell_type": "markdown",
   "metadata": {},
   "source": [
    "## Data"
   ]
  },
  {
   "cell_type": "code",
   "execution_count": 6,
   "metadata": {},
   "outputs": [
    {
     "data": {
      "text/plain": [
       "{'message': 'Succesfully uploaded file', 'id': 'example_data.csv'}"
      ]
     },
     "execution_count": 6,
     "metadata": {},
     "output_type": "execute_result"
    }
   ],
   "source": [
    "at.upload_data('resources/example_data.csv')"
   ]
  },
  {
   "cell_type": "markdown",
   "metadata": {},
   "source": [
    "## Document plans"
   ]
  },
  {
   "cell_type": "markdown",
   "metadata": {},
   "source": [
    "Open Accelerated Text document plan editor ([http://127.0.0.1:8080](http://127.0.0.1:8080) by default) and create a new document plan named **\"House description\"**. More detailed instructions can be found in [documentation](https://accelerated-text.readthedocs.io/en/latest/first-steps/)."
   ]
  },
  {
   "cell_type": "markdown",
   "metadata": {},
   "source": [
    "<img align=\"left\" src=\"resources/house_description.png\">"
   ]
  },
  {
   "cell_type": "code",
   "execution_count": 7,
   "metadata": {},
   "outputs": [
    {
     "data": {
      "text/plain": [
       "{'type': 'Document-plan',\n",
       " 'segments': [{'children': [{'modifier': {'name': 'size',\n",
       "      'type': 'Cell-modifier',\n",
       "      'srcId': 'UIheSpbs-Nt1^i.?)*$f',\n",
       "      'child': {'name': 'color',\n",
       "       'type': 'Cell-modifier',\n",
       "       'srcId': 'n(N};dMsWuFJ@B0(z59T',\n",
       "       'child': {'name': 'house',\n",
       "        'type': 'Dictionary-item',\n",
       "        'srcId': 'IhnB_Z={x2U|y+q_L@){',\n",
       "        'kind': 'N',\n",
       "        'itemId': 'house_N_Eng'}}},\n",
       "     'type': 'Modifier',\n",
       "     'srcId': 'j[dy#*!kAB+?9!P8y[+y',\n",
       "     'child': {'name': 'on',\n",
       "      'type': 'Dictionary-item-modifier',\n",
       "      'srcId': '6i,Qw#jDrj;;-JaTx!sT',\n",
       "      'kind': 'Prep',\n",
       "      'child': {'name': 'the',\n",
       "       'type': 'Dictionary-item-modifier',\n",
       "       'srcId': '}^psdVipV=M4}?E,O7%o',\n",
       "       'kind': 'Det',\n",
       "       'child': {'name': 'hill',\n",
       "        'type': 'Dictionary-item',\n",
       "        'srcId': '%rC/b]h07QFKhAsuS}-q',\n",
       "        'kind': 'N',\n",
       "        'itemId': 'hill_N_Eng'},\n",
       "       'itemId': 'the_Det_Eng'},\n",
       "      'itemId': 'on_Prep_Eng'}}],\n",
       "   'type': 'Segment',\n",
       "   'srcId': 'a*jcP.{oDh;,Mk50#1)R'}],\n",
       " 'srcId': ',ny*0{R:GN/;1$%y{eqI'}"
      ]
     },
     "execution_count": 7,
     "metadata": {},
     "output_type": "execute_result"
    }
   ],
   "source": [
    "dp = at.get_document_plan(name='House description')\n",
    "dp['documentPlan']"
   ]
  },
  {
   "cell_type": "code",
   "execution_count": 8,
   "metadata": {},
   "outputs": [
    {
     "data": {
      "text/plain": [
       "True"
      ]
     },
     "execution_count": 8,
     "metadata": {},
     "output_type": "execute_result"
    }
   ],
   "source": [
    "at.delete_document_plan(dp['id'])"
   ]
  },
  {
   "cell_type": "code",
   "execution_count": 9,
   "metadata": {},
   "outputs": [
    {
     "data": {
      "text/plain": [
       "'House description'"
      ]
     },
     "execution_count": 9,
     "metadata": {},
     "output_type": "execute_result"
    }
   ],
   "source": [
    "at.create_document_plan(**dp)['name']"
   ]
  },
  {
   "cell_type": "code",
   "execution_count": 10,
   "metadata": {},
   "outputs": [
    {
     "data": {
      "text/plain": [
       "['House description']"
      ]
     },
     "execution_count": 10,
     "metadata": {},
     "output_type": "execute_result"
    }
   ],
   "source": [
    "[x['name'] for x in at.list_document_plans(kind='Document')]"
   ]
  },
  {
   "cell_type": "markdown",
   "metadata": {},
   "source": [
    "## Text generation"
   ]
  },
  {
   "cell_type": "code",
   "execution_count": 11,
   "metadata": {},
   "outputs": [
    {
     "data": {
      "text/plain": [
       "['Small red house on the hill.']"
      ]
     },
     "execution_count": 11,
     "metadata": {},
     "output_type": "execute_result"
    }
   ],
   "source": [
    "result = at.generate('House description', data={\"size\": \"small\", \"color\": \"red\"})\n",
    "result['variants']"
   ]
  },
  {
   "cell_type": "code",
   "execution_count": 12,
   "metadata": {},
   "outputs": [
    {
     "data": {
      "text/plain": [
       "[['Small red house on the hill.'], ['Big green house on the hill.']]"
      ]
     },
     "execution_count": 12,
     "metadata": {},
     "output_type": "execute_result"
    }
   ],
   "source": [
    "results = at.generate_bulk('House description', data=[{\"size\": \"small\", \"color\": \"red\"}, \n",
    "                                                      {\"size\": \"big\", \"color\": \"green\"}])\n",
    "[x['variants'] for x in results]"
   ]
  },
  {
   "cell_type": "code",
   "execution_count": 13,
   "metadata": {},
   "outputs": [
    {
     "data": {
      "text/plain": [
       "{'resultId': 'cfccc6bb-9a40-4d82-ae0b-dde8b0cf1d88',\n",
       " 'offset': 0,\n",
       " 'totalCount': 1,\n",
       " 'ready': True,\n",
       " 'updatedAt': 1626690347,\n",
       " 'variants': ['Small red house on the hill.']}"
      ]
     },
     "execution_count": 13,
     "metadata": {},
     "output_type": "execute_result"
    }
   ],
   "source": [
    "at.get_result(result['resultId'])"
   ]
  },
  {
   "cell_type": "code",
   "execution_count": null,
   "metadata": {},
   "outputs": [],
   "source": []
  }
 ],
 "metadata": {
  "kernelspec": {
   "display_name": "Python 3 (ipykernel)",
   "language": "python",
   "name": "python3"
  },
  "language_info": {
   "codemirror_mode": {
    "name": "ipython",
    "version": 3
   },
   "file_extension": ".py",
   "mimetype": "text/x-python",
   "name": "python",
   "nbconvert_exporter": "python",
   "pygments_lexer": "ipython3",
   "version": "3.8.10"
  }
 },
 "nbformat": 4,
 "nbformat_minor": 4
}
