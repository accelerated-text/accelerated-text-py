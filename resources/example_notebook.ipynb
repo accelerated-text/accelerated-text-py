{
 "cells": [
  {
   "cell_type": "markdown",
   "metadata": {},
   "source": [
    "# Python wrapper for Accelerated Text\n",
    "\n",
    "## Installation"
   ]
  },
  {
   "cell_type": "raw",
   "metadata": {},
   "source": [
    "$ python -m pip install acctext"
   ]
  },
  {
   "cell_type": "markdown",
   "metadata": {},
   "source": [
    "## Usage"
   ]
  },
  {
   "cell_type": "code",
   "execution_count": 5,
   "metadata": {},
   "outputs": [],
   "source": [
    "from acctext import AcceleratedText\n",
    "\n",
    "at = AcceleratedText(host='http://127.0.0.1:3001')"
   ]
  },
  {
   "cell_type": "markdown",
   "metadata": {},
   "source": [
    "Make sure Accelerated Text application is running.\n",
    "Refer to [documentation](https://accelerated-text.readthedocs.io/en/latest/installation/) for launch instructions."
   ]
  },
  {
   "cell_type": "code",
   "execution_count": 6,
   "metadata": {},
   "outputs": [
    {
     "data": {
      "text/plain": [
       "{'health': 'Ok'}"
      ]
     },
     "execution_count": 6,
     "metadata": {},
     "output_type": "execute_result"
    }
   ],
   "source": [
    "at.health()"
   ]
  },
  {
   "cell_type": "markdown",
   "metadata": {},
   "source": [
    "### Interacting with Dictionary"
   ]
  },
  {
   "cell_type": "code",
   "execution_count": 9,
   "metadata": {},
   "outputs": [
    {
     "data": {
      "text/plain": [
       "[{'id': 'the_Det_Eng',\n",
       "  'key': 'the',\n",
       "  'forms': ['the'],\n",
       "  'category': 'Det',\n",
       "  'language': 'Eng',\n",
       "  'attributes': {'Operation': 'Syntax.the_Det/Det'}},\n",
       " {'id': 'hill_N_Eng',\n",
       "  'key': 'hill',\n",
       "  'forms': ['hill', 'hills'],\n",
       "  'category': 'N',\n",
       "  'language': 'Eng',\n",
       "  'attributes': {}},\n",
       " {'id': 'house_N_Eng',\n",
       "  'key': 'house',\n",
       "  'forms': ['house', 'houses'],\n",
       "  'category': 'N',\n",
       "  'language': 'Eng',\n",
       "  'attributes': {}},\n",
       " {'id': 'on_Prep_Eng',\n",
       "  'key': 'on',\n",
       "  'forms': ['on'],\n",
       "  'category': 'Prep',\n",
       "  'language': 'Eng',\n",
       "  'attributes': {'Operation': 'Syntax.on_Prep/Prep'}}]"
      ]
     },
     "execution_count": 9,
     "metadata": {},
     "output_type": "execute_result"
    }
   ],
   "source": [
    "items = [{'key': 'house',\n",
    "          'category': 'N',\n",
    "          'forms': ['house', 'houses']},\n",
    "         {'key': 'hill',\n",
    "          'category': 'N',\n",
    "          'forms': ['hill', 'hills']},\n",
    "         {'key': 'on',\n",
    "          'forms': ['on'],\n",
    "          'category': 'Prep',\n",
    "          'attributes': {'Operation': 'Syntax.on_Prep/Prep'}},\n",
    "         {'key': 'the',\n",
    "          'forms': ['the'],\n",
    "          'category': 'Det',\n",
    "          'attributes': {'Operation': 'Syntax.the_Det/Det'}}]\n",
    "\n",
    "for item in items:\n",
    "    at.create_dictionary_item(**item)\n",
    "    \n",
    "items = at.list_dictionary_items()\n",
    "items"
   ]
  },
  {
   "cell_type": "markdown",
   "metadata": {},
   "source": [
    "### Working with Data"
   ]
  },
  {
   "cell_type": "markdown",
   "metadata": {},
   "source": [
    "#### Upload a local file"
   ]
  },
  {
   "cell_type": "code",
   "execution_count": 11,
   "metadata": {},
   "outputs": [
    {
     "data": {
      "text/plain": [
       "{'message': 'Succesfully uploaded file', 'id': 'example_data.csv'}"
      ]
     },
     "execution_count": 11,
     "metadata": {},
     "output_type": "execute_result"
    }
   ],
   "source": [
    "at.upload_data_file('example_data.csv')"
   ]
  },
  {
   "cell_type": "markdown",
   "metadata": {},
   "source": [
    "#### Create a data file from scratch"
   ]
  },
  {
   "cell_type": "code",
   "execution_count": 16,
   "metadata": {},
   "outputs": [
    {
     "data": {
      "text/plain": [
       "{'id': 'example_data_2.csv'}"
      ]
     },
     "execution_count": 16,
     "metadata": {},
     "output_type": "execute_result"
    }
   ],
   "source": [
    "at.create_data_file('example_data_2.csv', ['a', 'b'], [['1', '2'], ['3', '4']])"
   ]
  },
  {
   "cell_type": "markdown",
   "metadata": {},
   "source": [
    "#### List available data files"
   ]
  },
  {
   "cell_type": "code",
   "execution_count": 18,
   "metadata": {},
   "outputs": [
    {
     "data": {
      "text/plain": [
       "['example_data.csv', 'example_data_2.csv']"
      ]
     },
     "execution_count": 18,
     "metadata": {},
     "output_type": "execute_result"
    }
   ],
   "source": [
    "[x['id'] for x in at.list_data_files()]"
   ]
  },
  {
   "cell_type": "markdown",
   "metadata": {},
   "source": [
    "#### Fetch data file"
   ]
  },
  {
   "cell_type": "code",
   "execution_count": 19,
   "metadata": {},
   "outputs": [
    {
     "data": {
      "text/plain": [
       "{'id': 'example_data_2.csv',\n",
       " 'filename': 'example_data_2.csv',\n",
       " 'header': ['a', 'b'],\n",
       " 'rows': [['1', '2'], ['3', '4']]}"
      ]
     },
     "execution_count": 19,
     "metadata": {},
     "output_type": "execute_result"
    }
   ],
   "source": [
    "at.get_data_file('example_data_2.csv')"
   ]
  },
  {
   "cell_type": "markdown",
   "metadata": {},
   "source": [
    "#### Delete data file"
   ]
  },
  {
   "cell_type": "code",
   "execution_count": 20,
   "metadata": {},
   "outputs": [
    {
     "data": {
      "text/plain": [
       "{'message': 'Succesfully deleted file', 'id': 'example_data_2.csv'}"
      ]
     },
     "execution_count": 20,
     "metadata": {},
     "output_type": "execute_result"
    }
   ],
   "source": [
    "at.delete_data_file('example_data_2.csv')"
   ]
  },
  {
   "cell_type": "markdown",
   "metadata": {},
   "source": [
    "### Languages and Readers"
   ]
  },
  {
   "cell_type": "markdown",
   "metadata": {},
   "source": [
    "#### Fetch existing language properties"
   ]
  },
  {
   "cell_type": "code",
   "execution_count": 21,
   "metadata": {},
   "outputs": [
    {
     "data": {
      "text/plain": [
       "{'id': 'Eng', 'name': 'English', 'flag': '🇬🇧', 'default': True}"
      ]
     },
     "execution_count": 21,
     "metadata": {},
     "output_type": "execute_result"
    }
   ],
   "source": [
    "at.get_language('Eng')"
   ]
  },
  {
   "cell_type": "markdown",
   "metadata": {},
   "source": [
    "#### Add new language"
   ]
  },
  {
   "cell_type": "code",
   "execution_count": 23,
   "metadata": {},
   "outputs": [
    {
     "data": {
      "text/plain": [
       "{'id': 'Ger', 'name': 'German', 'flag': '🇩🇪', 'default': False}"
      ]
     },
     "execution_count": 23,
     "metadata": {},
     "output_type": "execute_result"
    }
   ],
   "source": [
    "at.add_language('Ger', 'German')"
   ]
  },
  {
   "cell_type": "markdown",
   "metadata": {},
   "source": [
    "#### List available languages"
   ]
  },
  {
   "cell_type": "code",
   "execution_count": 25,
   "metadata": {},
   "outputs": [
    {
     "data": {
      "text/plain": [
       "[{'id': 'Eng', 'name': 'English', 'flag': '🇬🇧', 'default': True},\n",
       " {'id': 'Ger', 'name': 'German', 'flag': '🇩🇪', 'default': False}]"
      ]
     },
     "execution_count": 25,
     "metadata": {},
     "output_type": "execute_result"
    }
   ],
   "source": [
    "at.list_languages()"
   ]
  },
  {
   "cell_type": "markdown",
   "metadata": {},
   "source": [
    "#### Create new reader type"
   ]
  },
  {
   "cell_type": "code",
   "execution_count": 13,
   "metadata": {},
   "outputs": [
    {
     "data": {
      "text/plain": [
       "{'id': 'Dc', 'name': 'Discount Customer', 'flag': '(DC)', 'default': False}"
      ]
     },
     "execution_count": 13,
     "metadata": {},
     "output_type": "execute_result"
    }
   ],
   "source": [
    "at.create_reader('Dc', 'Discount Customer', '(DC)')"
   ]
  },
  {
   "cell_type": "code",
   "execution_count": 14,
   "metadata": {},
   "outputs": [
    {
     "data": {
      "text/plain": [
       "{'id': 'Lc', 'name': 'Loyal Customer', 'flag': '(LC)', 'default': False}"
      ]
     },
     "execution_count": 14,
     "metadata": {},
     "output_type": "execute_result"
    }
   ],
   "source": [
    "at.create_reader('Lc', 'Loyal Customer', '(LC)')"
   ]
  },
  {
   "cell_type": "markdown",
   "metadata": {},
   "source": [
    "#### List available readers"
   ]
  },
  {
   "cell_type": "code",
   "execution_count": 15,
   "metadata": {},
   "outputs": [
    {
     "data": {
      "text/plain": [
       "[{'id': 'Dc', 'name': 'Discount Customer', 'flag': '(DC)', 'default': False},\n",
       " {'id': 'Lc', 'name': 'Loyal Customer', 'flag': '(LC)', 'default': False}]"
      ]
     },
     "execution_count": 15,
     "metadata": {},
     "output_type": "execute_result"
    }
   ],
   "source": [
    "at.list_readers()"
   ]
  },
  {
   "cell_type": "markdown",
   "metadata": {},
   "source": [
    "### Document plans"
   ]
  },
  {
   "cell_type": "markdown",
   "metadata": {},
   "source": [
    "Open Accelerated Text document plan editor ([http://127.0.0.1:8080](http://127.0.0.1:8080) by default) and create a new document plan named **\"House description\"**. More detailed instructions can be found in [documentation](https://accelerated-text.readthedocs.io/en/latest/first-steps/)."
   ]
  },
  {
   "cell_type": "markdown",
   "metadata": {},
   "source": [
    "<img align=\"left\" src=\"https://raw.githubusercontent.com/tokenmill/accelerated-text-py/master/resources/house_description.png\">"
   ]
  },
  {
   "cell_type": "markdown",
   "metadata": {},
   "source": [
    "#### Fetch single document plan"
   ]
  },
  {
   "cell_type": "code",
   "execution_count": 27,
   "metadata": {},
   "outputs": [
    {
     "data": {
      "text/plain": [
       "{'type': 'Document-plan',\n",
       " 'segments': [{'children': [{'modifier': {'name': 'size',\n",
       "      'type': 'Cell-modifier',\n",
       "      'srcId': 'B-D0i/`TL4@ja%{U!?2G',\n",
       "      'child': {'name': 'color',\n",
       "       'type': 'Cell-modifier',\n",
       "       'srcId': '!2b?}PBIB?i]%*/(~?XM',\n",
       "       'child': {'name': 'house',\n",
       "        'type': 'Dictionary-item',\n",
       "        'srcId': '+5JLY;_/2/zEOcZ._$,4',\n",
       "        'kind': 'N',\n",
       "        'itemId': 'house_N_Eng'}}},\n",
       "     'type': 'Modifier',\n",
       "     'srcId': '`62!swypAqp_jK_lr1Ow',\n",
       "     'child': {'name': 'on',\n",
       "      'type': 'Dictionary-item-modifier',\n",
       "      'srcId': ']MNfAFBjxy,c?G55a04@',\n",
       "      'kind': 'Prep',\n",
       "      'child': {'name': 'the',\n",
       "       'type': 'Dictionary-item-modifier',\n",
       "       'srcId': '62%#$13DP}Gj8=n4NCI.',\n",
       "       'kind': 'Det',\n",
       "       'child': {'name': 'hill',\n",
       "        'type': 'Dictionary-item',\n",
       "        'srcId': 'Ol68tPXKblg(pUghVhb@',\n",
       "        'kind': 'N',\n",
       "        'itemId': 'hill_N_Eng'},\n",
       "       'itemId': 'the_Det_Eng'},\n",
       "      'itemId': 'on_Prep_Eng'}}],\n",
       "   'type': 'Segment',\n",
       "   'srcId': ']H[rfMhNu,^(wX6[%.+w'}],\n",
       " 'srcId': 'Li$gv+b_9o-n$z^FnSl~'}"
      ]
     },
     "execution_count": 27,
     "metadata": {},
     "output_type": "execute_result"
    }
   ],
   "source": [
    "dp = at.get_document_plan(name='House description')\n",
    "dp['documentPlan']"
   ]
  },
  {
   "cell_type": "markdown",
   "metadata": {},
   "source": [
    "#### Delete document plan"
   ]
  },
  {
   "cell_type": "code",
   "execution_count": 28,
   "metadata": {},
   "outputs": [
    {
     "data": {
      "text/plain": [
       "True"
      ]
     },
     "execution_count": 28,
     "metadata": {},
     "output_type": "execute_result"
    }
   ],
   "source": [
    "at.delete_document_plan(dp['id'])"
   ]
  },
  {
   "cell_type": "markdown",
   "metadata": {},
   "source": [
    "#### Restore document plan"
   ]
  },
  {
   "cell_type": "code",
   "execution_count": 29,
   "metadata": {},
   "outputs": [
    {
     "data": {
      "text/plain": [
       "'House description'"
      ]
     },
     "execution_count": 29,
     "metadata": {},
     "output_type": "execute_result"
    }
   ],
   "source": [
    "at.create_document_plan(**dp)['name']"
   ]
  },
  {
   "cell_type": "markdown",
   "metadata": {},
   "source": [
    "#### List document plans"
   ]
  },
  {
   "cell_type": "code",
   "execution_count": 31,
   "metadata": {},
   "outputs": [
    {
     "data": {
      "text/plain": [
       "['House description']"
      ]
     },
     "execution_count": 31,
     "metadata": {},
     "output_type": "execute_result"
    }
   ],
   "source": [
    "[x['name'] for x in at.list_document_plans(kind='Document')]"
   ]
  },
  {
   "cell_type": "markdown",
   "metadata": {},
   "source": [
    "### Text generation"
   ]
  },
  {
   "cell_type": "code",
   "execution_count": 32,
   "metadata": {},
   "outputs": [
    {
     "data": {
      "text/plain": [
       "['Small red house on the hill.']"
      ]
     },
     "execution_count": 32,
     "metadata": {},
     "output_type": "execute_result"
    }
   ],
   "source": [
    "result = at.generate('House description', data={\"size\": \"small\", \"color\": \"red\"})\n",
    "result['variants']"
   ]
  },
  {
   "cell_type": "markdown",
   "metadata": {},
   "source": [
    "#### Bulk generation"
   ]
  },
  {
   "cell_type": "code",
   "execution_count": 33,
   "metadata": {},
   "outputs": [
    {
     "data": {
      "text/plain": [
       "[['Small red house on the hill.'], ['Big green house on the hill.']]"
      ]
     },
     "execution_count": 33,
     "metadata": {},
     "output_type": "execute_result"
    }
   ],
   "source": [
    "results = at.generate_bulk('House description', data=[{\"size\": \"small\", \"color\": \"red\"}, \n",
    "                                                      {\"size\": \"big\", \"color\": \"green\"}])\n",
    "[x['variants'] for x in results]"
   ]
  },
  {
   "cell_type": "markdown",
   "metadata": {},
   "source": [
    "#### Fetch specific result"
   ]
  },
  {
   "cell_type": "code",
   "execution_count": 35,
   "metadata": {},
   "outputs": [
    {
     "data": {
      "text/plain": [
       "{'resultId': 'a364335f-5021-443d-9c77-fe40c296ecef',\n",
       " 'offset': 0,\n",
       " 'totalCount': 1,\n",
       " 'ready': True,\n",
       " 'updatedAt': 1628173135,\n",
       " 'variants': ['Small red house on the hill.']}"
      ]
     },
     "execution_count": 35,
     "metadata": {},
     "output_type": "execute_result"
    }
   ],
   "source": [
    "at.get_result(result['resultId'])"
   ]
  },
  {
   "cell_type": "markdown",
   "metadata": {},
   "source": [
    "### Working with state"
   ]
  },
  {
   "cell_type": "markdown",
   "metadata": {},
   "source": [
    "#### Export"
   ]
  },
  {
   "cell_type": "code",
   "execution_count": 37,
   "metadata": {},
   "outputs": [],
   "source": [
    "at.export_state('state.zip')"
   ]
  },
  {
   "cell_type": "markdown",
   "metadata": {},
   "source": [
    "#### Clear"
   ]
  },
  {
   "cell_type": "code",
   "execution_count": 38,
   "metadata": {},
   "outputs": [],
   "source": [
    "at.clear_state()"
   ]
  },
  {
   "cell_type": "markdown",
   "metadata": {},
   "source": [
    "#### Restore"
   ]
  },
  {
   "cell_type": "code",
   "execution_count": 39,
   "metadata": {},
   "outputs": [],
   "source": [
    "at.restore_state('state.zip')"
   ]
  }
 ],
 "metadata": {
  "kernelspec": {
   "display_name": "Python 3 (ipykernel)",
   "language": "python",
   "name": "python3"
  },
  "language_info": {
   "codemirror_mode": {
    "name": "ipython",
    "version": 3
   },
   "file_extension": ".py",
   "mimetype": "text/x-python",
   "name": "python",
   "nbconvert_exporter": "python",
   "pygments_lexer": "ipython3",
   "version": "3.8.10"
  }
 },
 "nbformat": 4,
 "nbformat_minor": 4
}
